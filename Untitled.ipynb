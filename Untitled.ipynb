{
 "cells": [
  {
   "cell_type": "code",
   "execution_count": 2,
   "id": "2e30bed1",
   "metadata": {},
   "outputs": [],
   "source": [
    "import pandas as pd\n",
    "import numpy as np\n",
    "\n",
    "import matplotlib\n",
    "import matplotlib.pyplot as plt\n",
    "from pandas.plotting import scatter_matrix\n",
    "\n",
    "import seaborn as sns\n",
    "sns.set(style=\"white\",color_codes=True)\n",
    "sns.set(font_scale=1.5)"
   ]
  },
  {
   "cell_type": "code",
   "execution_count": 4,
   "id": "50a72ddd",
   "metadata": {},
   "outputs": [
    {
     "data": {
      "text/plain": [
       "(891, 12)"
      ]
     },
     "execution_count": 4,
     "metadata": {},
     "output_type": "execute_result"
    }
   ],
   "source": [
    "df_train=pd.read_csv(\"data/train.csv\")\n",
    "df_train.shape"
   ]
  },
  {
   "cell_type": "code",
   "execution_count": 5,
   "id": "41195706",
   "metadata": {},
   "outputs": [
    {
     "data": {
      "text/html": [
       "<div>\n",
       "<style scoped>\n",
       "    .dataframe tbody tr th:only-of-type {\n",
       "        vertical-align: middle;\n",
       "    }\n",
       "\n",
       "    .dataframe tbody tr th {\n",
       "        vertical-align: top;\n",
       "    }\n",
       "\n",
       "    .dataframe thead th {\n",
       "        text-align: right;\n",
       "    }\n",
       "</style>\n",
       "<table border=\"1\" class=\"dataframe\">\n",
       "  <thead>\n",
       "    <tr style=\"text-align: right;\">\n",
       "      <th></th>\n",
       "      <th>PassengerId</th>\n",
       "      <th>Survived</th>\n",
       "      <th>Pclass</th>\n",
       "      <th>Name</th>\n",
       "      <th>Sex</th>\n",
       "      <th>Age</th>\n",
       "      <th>SibSp</th>\n",
       "      <th>Parch</th>\n",
       "      <th>Ticket</th>\n",
       "      <th>Fare</th>\n",
       "      <th>Cabin</th>\n",
       "      <th>Embarked</th>\n",
       "    </tr>\n",
       "  </thead>\n",
       "  <tbody>\n",
       "    <tr>\n",
       "      <th>0</th>\n",
       "      <td>1</td>\n",
       "      <td>0</td>\n",
       "      <td>3</td>\n",
       "      <td>Braund, Mr. Owen Harris</td>\n",
       "      <td>male</td>\n",
       "      <td>22.0</td>\n",
       "      <td>1</td>\n",
       "      <td>0</td>\n",
       "      <td>A/5 21171</td>\n",
       "      <td>7.2500</td>\n",
       "      <td>NaN</td>\n",
       "      <td>S</td>\n",
       "    </tr>\n",
       "    <tr>\n",
       "      <th>1</th>\n",
       "      <td>2</td>\n",
       "      <td>1</td>\n",
       "      <td>1</td>\n",
       "      <td>Cumings, Mrs. John Bradley (Florence Briggs Th...</td>\n",
       "      <td>female</td>\n",
       "      <td>38.0</td>\n",
       "      <td>1</td>\n",
       "      <td>0</td>\n",
       "      <td>PC 17599</td>\n",
       "      <td>71.2833</td>\n",
       "      <td>C85</td>\n",
       "      <td>C</td>\n",
       "    </tr>\n",
       "    <tr>\n",
       "      <th>2</th>\n",
       "      <td>3</td>\n",
       "      <td>1</td>\n",
       "      <td>3</td>\n",
       "      <td>Heikkinen, Miss. Laina</td>\n",
       "      <td>female</td>\n",
       "      <td>26.0</td>\n",
       "      <td>0</td>\n",
       "      <td>0</td>\n",
       "      <td>STON/O2. 3101282</td>\n",
       "      <td>7.9250</td>\n",
       "      <td>NaN</td>\n",
       "      <td>S</td>\n",
       "    </tr>\n",
       "    <tr>\n",
       "      <th>3</th>\n",
       "      <td>4</td>\n",
       "      <td>1</td>\n",
       "      <td>1</td>\n",
       "      <td>Futrelle, Mrs. Jacques Heath (Lily May Peel)</td>\n",
       "      <td>female</td>\n",
       "      <td>35.0</td>\n",
       "      <td>1</td>\n",
       "      <td>0</td>\n",
       "      <td>113803</td>\n",
       "      <td>53.1000</td>\n",
       "      <td>C123</td>\n",
       "      <td>S</td>\n",
       "    </tr>\n",
       "    <tr>\n",
       "      <th>4</th>\n",
       "      <td>5</td>\n",
       "      <td>0</td>\n",
       "      <td>3</td>\n",
       "      <td>Allen, Mr. William Henry</td>\n",
       "      <td>male</td>\n",
       "      <td>35.0</td>\n",
       "      <td>0</td>\n",
       "      <td>0</td>\n",
       "      <td>373450</td>\n",
       "      <td>8.0500</td>\n",
       "      <td>NaN</td>\n",
       "      <td>S</td>\n",
       "    </tr>\n",
       "  </tbody>\n",
       "</table>\n",
       "</div>"
      ],
      "text/plain": [
       "   PassengerId  Survived  Pclass  \\\n",
       "0            1         0       3   \n",
       "1            2         1       1   \n",
       "2            3         1       3   \n",
       "3            4         1       1   \n",
       "4            5         0       3   \n",
       "\n",
       "                                                Name     Sex   Age  SibSp  \\\n",
       "0                            Braund, Mr. Owen Harris    male  22.0      1   \n",
       "1  Cumings, Mrs. John Bradley (Florence Briggs Th...  female  38.0      1   \n",
       "2                             Heikkinen, Miss. Laina  female  26.0      0   \n",
       "3       Futrelle, Mrs. Jacques Heath (Lily May Peel)  female  35.0      1   \n",
       "4                           Allen, Mr. William Henry    male  35.0      0   \n",
       "\n",
       "   Parch            Ticket     Fare Cabin Embarked  \n",
       "0      0         A/5 21171   7.2500   NaN        S  \n",
       "1      0          PC 17599  71.2833   C85        C  \n",
       "2      0  STON/O2. 3101282   7.9250   NaN        S  \n",
       "3      0            113803  53.1000  C123        S  \n",
       "4      0            373450   8.0500   NaN        S  "
      ]
     },
     "execution_count": 5,
     "metadata": {},
     "output_type": "execute_result"
    }
   ],
   "source": [
    "df_train.head()"
   ]
  },
  {
   "cell_type": "code",
   "execution_count": 6,
   "id": "075108b5",
   "metadata": {},
   "outputs": [
    {
     "data": {
      "text/plain": [
       "0    549\n",
       "1    342\n",
       "Name: Survived, dtype: int64"
      ]
     },
     "execution_count": 6,
     "metadata": {},
     "output_type": "execute_result"
    }
   ],
   "source": [
    "df_train.Survived.value_counts()"
   ]
  },
  {
   "cell_type": "code",
   "execution_count": 7,
   "id": "6c76693b",
   "metadata": {},
   "outputs": [
    {
     "data": {
      "text/plain": [
       "male      577\n",
       "female    314\n",
       "Name: Sex, dtype: int64"
      ]
     },
     "execution_count": 7,
     "metadata": {},
     "output_type": "execute_result"
    }
   ],
   "source": [
    "df_train.Sex.value_counts()"
   ]
  },
  {
   "cell_type": "code",
   "execution_count": 8,
   "id": "609dfdb6",
   "metadata": {},
   "outputs": [
    {
     "data": {
      "text/plain": [
       "S    644\n",
       "C    168\n",
       "Q     77\n",
       "Name: Embarked, dtype: int64"
      ]
     },
     "execution_count": 8,
     "metadata": {},
     "output_type": "execute_result"
    }
   ],
   "source": [
    "df_train.Embarked.value_counts()"
   ]
  },
  {
   "cell_type": "code",
   "execution_count": 11,
   "id": "ba9fe312",
   "metadata": {},
   "outputs": [
    {
     "data": {
      "text/plain": [
       "PassengerId      0\n",
       "Survived         0\n",
       "Pclass           0\n",
       "Name             0\n",
       "Sex              0\n",
       "Age            177\n",
       "SibSp            0\n",
       "Parch            0\n",
       "Ticket           0\n",
       "Fare             0\n",
       "Cabin          687\n",
       "Embarked         2\n",
       "dtype: int64"
      ]
     },
     "execution_count": 11,
     "metadata": {},
     "output_type": "execute_result"
    }
   ],
   "source": [
    "df_train.isnull().sum()"
   ]
  },
  {
   "cell_type": "code",
   "execution_count": 16,
   "id": "dc0b4099",
   "metadata": {},
   "outputs": [],
   "source": [
    "df_train=df_train.drop([\"PassengerId\",\"Name\",\"Ticket\",\"Cabin\"],axis=1)"
   ]
  },
  {
   "cell_type": "code",
   "execution_count": 17,
   "id": "8514783b",
   "metadata": {},
   "outputs": [
    {
     "data": {
      "text/html": [
       "<div>\n",
       "<style scoped>\n",
       "    .dataframe tbody tr th:only-of-type {\n",
       "        vertical-align: middle;\n",
       "    }\n",
       "\n",
       "    .dataframe tbody tr th {\n",
       "        vertical-align: top;\n",
       "    }\n",
       "\n",
       "    .dataframe thead th {\n",
       "        text-align: right;\n",
       "    }\n",
       "</style>\n",
       "<table border=\"1\" class=\"dataframe\">\n",
       "  <thead>\n",
       "    <tr style=\"text-align: right;\">\n",
       "      <th></th>\n",
       "      <th>Survived</th>\n",
       "      <th>Pclass</th>\n",
       "      <th>Age</th>\n",
       "      <th>SibSp</th>\n",
       "      <th>Parch</th>\n",
       "      <th>Fare</th>\n",
       "    </tr>\n",
       "  </thead>\n",
       "  <tbody>\n",
       "    <tr>\n",
       "      <th>count</th>\n",
       "      <td>891.000000</td>\n",
       "      <td>891.000000</td>\n",
       "      <td>714.000000</td>\n",
       "      <td>891.000000</td>\n",
       "      <td>891.000000</td>\n",
       "      <td>891.000000</td>\n",
       "    </tr>\n",
       "    <tr>\n",
       "      <th>mean</th>\n",
       "      <td>0.383838</td>\n",
       "      <td>2.308642</td>\n",
       "      <td>29.699118</td>\n",
       "      <td>0.523008</td>\n",
       "      <td>0.381594</td>\n",
       "      <td>32.204208</td>\n",
       "    </tr>\n",
       "    <tr>\n",
       "      <th>std</th>\n",
       "      <td>0.486592</td>\n",
       "      <td>0.836071</td>\n",
       "      <td>14.526497</td>\n",
       "      <td>1.102743</td>\n",
       "      <td>0.806057</td>\n",
       "      <td>49.693429</td>\n",
       "    </tr>\n",
       "    <tr>\n",
       "      <th>min</th>\n",
       "      <td>0.000000</td>\n",
       "      <td>1.000000</td>\n",
       "      <td>0.420000</td>\n",
       "      <td>0.000000</td>\n",
       "      <td>0.000000</td>\n",
       "      <td>0.000000</td>\n",
       "    </tr>\n",
       "    <tr>\n",
       "      <th>25%</th>\n",
       "      <td>0.000000</td>\n",
       "      <td>2.000000</td>\n",
       "      <td>20.125000</td>\n",
       "      <td>0.000000</td>\n",
       "      <td>0.000000</td>\n",
       "      <td>7.910400</td>\n",
       "    </tr>\n",
       "    <tr>\n",
       "      <th>50%</th>\n",
       "      <td>0.000000</td>\n",
       "      <td>3.000000</td>\n",
       "      <td>28.000000</td>\n",
       "      <td>0.000000</td>\n",
       "      <td>0.000000</td>\n",
       "      <td>14.454200</td>\n",
       "    </tr>\n",
       "    <tr>\n",
       "      <th>75%</th>\n",
       "      <td>1.000000</td>\n",
       "      <td>3.000000</td>\n",
       "      <td>38.000000</td>\n",
       "      <td>1.000000</td>\n",
       "      <td>0.000000</td>\n",
       "      <td>31.000000</td>\n",
       "    </tr>\n",
       "    <tr>\n",
       "      <th>max</th>\n",
       "      <td>1.000000</td>\n",
       "      <td>3.000000</td>\n",
       "      <td>80.000000</td>\n",
       "      <td>8.000000</td>\n",
       "      <td>6.000000</td>\n",
       "      <td>512.329200</td>\n",
       "    </tr>\n",
       "  </tbody>\n",
       "</table>\n",
       "</div>"
      ],
      "text/plain": [
       "         Survived      Pclass         Age       SibSp       Parch        Fare\n",
       "count  891.000000  891.000000  714.000000  891.000000  891.000000  891.000000\n",
       "mean     0.383838    2.308642   29.699118    0.523008    0.381594   32.204208\n",
       "std      0.486592    0.836071   14.526497    1.102743    0.806057   49.693429\n",
       "min      0.000000    1.000000    0.420000    0.000000    0.000000    0.000000\n",
       "25%      0.000000    2.000000   20.125000    0.000000    0.000000    7.910400\n",
       "50%      0.000000    3.000000   28.000000    0.000000    0.000000   14.454200\n",
       "75%      1.000000    3.000000   38.000000    1.000000    0.000000   31.000000\n",
       "max      1.000000    3.000000   80.000000    8.000000    6.000000  512.329200"
      ]
     },
     "execution_count": 17,
     "metadata": {},
     "output_type": "execute_result"
    }
   ],
   "source": [
    "df_train.describe()"
   ]
  },
  {
   "cell_type": "code",
   "execution_count": 19,
   "id": "27a8b8cc",
   "metadata": {},
   "outputs": [
    {
     "data": {
      "text/html": [
       "<div>\n",
       "<style scoped>\n",
       "    .dataframe tbody tr th:only-of-type {\n",
       "        vertical-align: middle;\n",
       "    }\n",
       "\n",
       "    .dataframe tbody tr th {\n",
       "        vertical-align: top;\n",
       "    }\n",
       "\n",
       "    .dataframe thead th {\n",
       "        text-align: right;\n",
       "    }\n",
       "</style>\n",
       "<table border=\"1\" class=\"dataframe\">\n",
       "  <thead>\n",
       "    <tr style=\"text-align: right;\">\n",
       "      <th></th>\n",
       "      <th>Survived</th>\n",
       "      <th>Age</th>\n",
       "      <th>SibSp</th>\n",
       "      <th>Parch</th>\n",
       "      <th>Fare</th>\n",
       "    </tr>\n",
       "    <tr>\n",
       "      <th>Pclass</th>\n",
       "      <th></th>\n",
       "      <th></th>\n",
       "      <th></th>\n",
       "      <th></th>\n",
       "      <th></th>\n",
       "    </tr>\n",
       "  </thead>\n",
       "  <tbody>\n",
       "    <tr>\n",
       "      <th>1</th>\n",
       "      <td>0.629630</td>\n",
       "      <td>38.233441</td>\n",
       "      <td>0.416667</td>\n",
       "      <td>0.356481</td>\n",
       "      <td>84.154687</td>\n",
       "    </tr>\n",
       "    <tr>\n",
       "      <th>2</th>\n",
       "      <td>0.472826</td>\n",
       "      <td>29.877630</td>\n",
       "      <td>0.402174</td>\n",
       "      <td>0.380435</td>\n",
       "      <td>20.662183</td>\n",
       "    </tr>\n",
       "    <tr>\n",
       "      <th>3</th>\n",
       "      <td>0.242363</td>\n",
       "      <td>25.140620</td>\n",
       "      <td>0.615071</td>\n",
       "      <td>0.393075</td>\n",
       "      <td>13.675550</td>\n",
       "    </tr>\n",
       "  </tbody>\n",
       "</table>\n",
       "</div>"
      ],
      "text/plain": [
       "        Survived        Age     SibSp     Parch       Fare\n",
       "Pclass                                                    \n",
       "1       0.629630  38.233441  0.416667  0.356481  84.154687\n",
       "2       0.472826  29.877630  0.402174  0.380435  20.662183\n",
       "3       0.242363  25.140620  0.615071  0.393075  13.675550"
      ]
     },
     "execution_count": 19,
     "metadata": {},
     "output_type": "execute_result"
    }
   ],
   "source": [
    "df_train.groupby([\"Pclass\"]).mean()"
   ]
  },
  {
   "cell_type": "code",
   "execution_count": 20,
   "id": "395f111e",
   "metadata": {},
   "outputs": [],
   "source": [
    "def age_aprox(colms):\n",
    "    age=colms[0]\n",
    "    pclass=colms[1]\n",
    "    if pd.isnull(age):\n",
    "        if pclass==1:\n",
    "            age=38\n",
    "        elif pclass==2:\n",
    "            age=30\n",
    "        else:\n",
    "            age=25\n",
    "            \n",
    "    return age\n"
   ]
  },
  {
   "cell_type": "code",
   "execution_count": 21,
   "id": "fcc04def",
   "metadata": {},
   "outputs": [],
   "source": [
    "df_train[\"Age\"]=df_train[[\"Age\",\"Pclass\"]].apply(age_aprox,axis=1)"
   ]
  },
  {
   "cell_type": "code",
   "execution_count": 22,
   "id": "e62f39e0",
   "metadata": {},
   "outputs": [
    {
     "data": {
      "text/html": [
       "<div>\n",
       "<style scoped>\n",
       "    .dataframe tbody tr th:only-of-type {\n",
       "        vertical-align: middle;\n",
       "    }\n",
       "\n",
       "    .dataframe tbody tr th {\n",
       "        vertical-align: top;\n",
       "    }\n",
       "\n",
       "    .dataframe thead th {\n",
       "        text-align: right;\n",
       "    }\n",
       "</style>\n",
       "<table border=\"1\" class=\"dataframe\">\n",
       "  <thead>\n",
       "    <tr style=\"text-align: right;\">\n",
       "      <th></th>\n",
       "      <th>Survived</th>\n",
       "      <th>Pclass</th>\n",
       "      <th>Age</th>\n",
       "      <th>SibSp</th>\n",
       "      <th>Parch</th>\n",
       "      <th>Fare</th>\n",
       "    </tr>\n",
       "  </thead>\n",
       "  <tbody>\n",
       "    <tr>\n",
       "      <th>count</th>\n",
       "      <td>891.000000</td>\n",
       "      <td>891.000000</td>\n",
       "      <td>891.000000</td>\n",
       "      <td>891.000000</td>\n",
       "      <td>891.000000</td>\n",
       "      <td>891.000000</td>\n",
       "    </tr>\n",
       "    <tr>\n",
       "      <th>mean</th>\n",
       "      <td>0.383838</td>\n",
       "      <td>2.308642</td>\n",
       "      <td>29.265062</td>\n",
       "      <td>0.523008</td>\n",
       "      <td>0.381594</td>\n",
       "      <td>32.204208</td>\n",
       "    </tr>\n",
       "    <tr>\n",
       "      <th>std</th>\n",
       "      <td>0.486592</td>\n",
       "      <td>0.836071</td>\n",
       "      <td>13.212184</td>\n",
       "      <td>1.102743</td>\n",
       "      <td>0.806057</td>\n",
       "      <td>49.693429</td>\n",
       "    </tr>\n",
       "    <tr>\n",
       "      <th>min</th>\n",
       "      <td>0.000000</td>\n",
       "      <td>1.000000</td>\n",
       "      <td>0.420000</td>\n",
       "      <td>0.000000</td>\n",
       "      <td>0.000000</td>\n",
       "      <td>0.000000</td>\n",
       "    </tr>\n",
       "    <tr>\n",
       "      <th>25%</th>\n",
       "      <td>0.000000</td>\n",
       "      <td>2.000000</td>\n",
       "      <td>22.000000</td>\n",
       "      <td>0.000000</td>\n",
       "      <td>0.000000</td>\n",
       "      <td>7.910400</td>\n",
       "    </tr>\n",
       "    <tr>\n",
       "      <th>50%</th>\n",
       "      <td>0.000000</td>\n",
       "      <td>3.000000</td>\n",
       "      <td>26.000000</td>\n",
       "      <td>0.000000</td>\n",
       "      <td>0.000000</td>\n",
       "      <td>14.454200</td>\n",
       "    </tr>\n",
       "    <tr>\n",
       "      <th>75%</th>\n",
       "      <td>1.000000</td>\n",
       "      <td>3.000000</td>\n",
       "      <td>37.000000</td>\n",
       "      <td>1.000000</td>\n",
       "      <td>0.000000</td>\n",
       "      <td>31.000000</td>\n",
       "    </tr>\n",
       "    <tr>\n",
       "      <th>max</th>\n",
       "      <td>1.000000</td>\n",
       "      <td>3.000000</td>\n",
       "      <td>80.000000</td>\n",
       "      <td>8.000000</td>\n",
       "      <td>6.000000</td>\n",
       "      <td>512.329200</td>\n",
       "    </tr>\n",
       "  </tbody>\n",
       "</table>\n",
       "</div>"
      ],
      "text/plain": [
       "         Survived      Pclass         Age       SibSp       Parch        Fare\n",
       "count  891.000000  891.000000  891.000000  891.000000  891.000000  891.000000\n",
       "mean     0.383838    2.308642   29.265062    0.523008    0.381594   32.204208\n",
       "std      0.486592    0.836071   13.212184    1.102743    0.806057   49.693429\n",
       "min      0.000000    1.000000    0.420000    0.000000    0.000000    0.000000\n",
       "25%      0.000000    2.000000   22.000000    0.000000    0.000000    7.910400\n",
       "50%      0.000000    3.000000   26.000000    0.000000    0.000000   14.454200\n",
       "75%      1.000000    3.000000   37.000000    1.000000    0.000000   31.000000\n",
       "max      1.000000    3.000000   80.000000    8.000000    6.000000  512.329200"
      ]
     },
     "execution_count": 22,
     "metadata": {},
     "output_type": "execute_result"
    }
   ],
   "source": [
    "df_train.describe()"
   ]
  },
  {
   "cell_type": "code",
   "execution_count": 23,
   "id": "02108a07",
   "metadata": {},
   "outputs": [
    {
     "data": {
      "text/plain": [
       "Survived    0\n",
       "Pclass      0\n",
       "Sex         0\n",
       "Age         0\n",
       "SibSp       0\n",
       "Parch       0\n",
       "Fare        0\n",
       "Embarked    2\n",
       "dtype: int64"
      ]
     },
     "execution_count": 23,
     "metadata": {},
     "output_type": "execute_result"
    }
   ],
   "source": [
    "df_train.isnull().sum()"
   ]
  },
  {
   "cell_type": "code",
   "execution_count": 24,
   "id": "7713b630",
   "metadata": {},
   "outputs": [
    {
     "data": {
      "text/plain": [
       "Survived    0\n",
       "Pclass      0\n",
       "Sex         0\n",
       "Age         0\n",
       "SibSp       0\n",
       "Parch       0\n",
       "Fare        0\n",
       "Embarked    0\n",
       "dtype: int64"
      ]
     },
     "execution_count": 24,
     "metadata": {},
     "output_type": "execute_result"
    }
   ],
   "source": [
    "df_train.dropna(inplace=True)\n",
    "df_train.isnull().sum()"
   ]
  },
  {
   "cell_type": "code",
   "execution_count": 25,
   "id": "7b566045",
   "metadata": {},
   "outputs": [],
   "source": [
    "df_train_dummies=pd.get_dummies(df_train,columns=[\"Sex\"])"
   ]
  },
  {
   "cell_type": "code",
   "execution_count": 26,
   "id": "64602d2a",
   "metadata": {},
   "outputs": [
    {
     "data": {
      "text/html": [
       "<div>\n",
       "<style scoped>\n",
       "    .dataframe tbody tr th:only-of-type {\n",
       "        vertical-align: middle;\n",
       "    }\n",
       "\n",
       "    .dataframe tbody tr th {\n",
       "        vertical-align: top;\n",
       "    }\n",
       "\n",
       "    .dataframe thead th {\n",
       "        text-align: right;\n",
       "    }\n",
       "</style>\n",
       "<table border=\"1\" class=\"dataframe\">\n",
       "  <thead>\n",
       "    <tr style=\"text-align: right;\">\n",
       "      <th></th>\n",
       "      <th>Survived</th>\n",
       "      <th>Pclass</th>\n",
       "      <th>Age</th>\n",
       "      <th>SibSp</th>\n",
       "      <th>Parch</th>\n",
       "      <th>Fare</th>\n",
       "      <th>Sex_female</th>\n",
       "      <th>Sex_male</th>\n",
       "      <th>Embarked_C</th>\n",
       "      <th>Embarked_Q</th>\n",
       "      <th>Embarked_S</th>\n",
       "    </tr>\n",
       "  </thead>\n",
       "  <tbody>\n",
       "    <tr>\n",
       "      <th>0</th>\n",
       "      <td>0</td>\n",
       "      <td>3</td>\n",
       "      <td>22.0</td>\n",
       "      <td>1</td>\n",
       "      <td>0</td>\n",
       "      <td>7.2500</td>\n",
       "      <td>0</td>\n",
       "      <td>1</td>\n",
       "      <td>0</td>\n",
       "      <td>0</td>\n",
       "      <td>1</td>\n",
       "    </tr>\n",
       "    <tr>\n",
       "      <th>1</th>\n",
       "      <td>1</td>\n",
       "      <td>1</td>\n",
       "      <td>38.0</td>\n",
       "      <td>1</td>\n",
       "      <td>0</td>\n",
       "      <td>71.2833</td>\n",
       "      <td>1</td>\n",
       "      <td>0</td>\n",
       "      <td>1</td>\n",
       "      <td>0</td>\n",
       "      <td>0</td>\n",
       "    </tr>\n",
       "    <tr>\n",
       "      <th>2</th>\n",
       "      <td>1</td>\n",
       "      <td>3</td>\n",
       "      <td>26.0</td>\n",
       "      <td>0</td>\n",
       "      <td>0</td>\n",
       "      <td>7.9250</td>\n",
       "      <td>1</td>\n",
       "      <td>0</td>\n",
       "      <td>0</td>\n",
       "      <td>0</td>\n",
       "      <td>1</td>\n",
       "    </tr>\n",
       "    <tr>\n",
       "      <th>3</th>\n",
       "      <td>1</td>\n",
       "      <td>1</td>\n",
       "      <td>35.0</td>\n",
       "      <td>1</td>\n",
       "      <td>0</td>\n",
       "      <td>53.1000</td>\n",
       "      <td>1</td>\n",
       "      <td>0</td>\n",
       "      <td>0</td>\n",
       "      <td>0</td>\n",
       "      <td>1</td>\n",
       "    </tr>\n",
       "    <tr>\n",
       "      <th>4</th>\n",
       "      <td>0</td>\n",
       "      <td>3</td>\n",
       "      <td>35.0</td>\n",
       "      <td>0</td>\n",
       "      <td>0</td>\n",
       "      <td>8.0500</td>\n",
       "      <td>0</td>\n",
       "      <td>1</td>\n",
       "      <td>0</td>\n",
       "      <td>0</td>\n",
       "      <td>1</td>\n",
       "    </tr>\n",
       "  </tbody>\n",
       "</table>\n",
       "</div>"
      ],
      "text/plain": [
       "   Survived  Pclass   Age  SibSp  Parch     Fare  Sex_female  Sex_male  \\\n",
       "0         0       3  22.0      1      0   7.2500           0         1   \n",
       "1         1       1  38.0      1      0  71.2833           1         0   \n",
       "2         1       3  26.0      0      0   7.9250           1         0   \n",
       "3         1       1  35.0      1      0  53.1000           1         0   \n",
       "4         0       3  35.0      0      0   8.0500           0         1   \n",
       "\n",
       "   Embarked_C  Embarked_Q  Embarked_S  \n",
       "0           0           0           1  \n",
       "1           1           0           0  \n",
       "2           0           0           1  \n",
       "3           0           0           1  \n",
       "4           0           0           1  "
      ]
     },
     "execution_count": 26,
     "metadata": {},
     "output_type": "execute_result"
    }
   ],
   "source": [
    "df_train_dummies=pd.get_dummies(df_train_dummies,columns=[\"Embarked\"])\n",
    "df_train_dummies.head()"
   ]
  },
  {
   "cell_type": "code",
   "execution_count": 28,
   "id": "0b2d549e",
   "metadata": {},
   "outputs": [
    {
     "data": {
      "text/plain": [
       "<AxesSubplot:>"
      ]
     },
     "execution_count": 28,
     "metadata": {},
     "output_type": "execute_result"
    },
    {
     "data": {
      "image/png": "[encoded data removed]",
      "text/plain": [
       "<Figure size 432x288 with 2 Axes>"
      ]
     },
     "metadata": {},
     "output_type": "display_data"
    }
   ],
   "source": [
    "plt.figure(figsize=(6,4))\n",
    "sns.heatmap(df_train_dummies.corr())"
   ]
  },
  {
   "cell_type": "code",
   "execution_count": 30,
   "id": "e702ab9d",
   "metadata": {},
   "outputs": [],
   "source": [
    "from sklearn.model_selection import train_test_split\n",
    "from sklearn.linear_model import LogisticRegression\n",
    "from sklearn.metrics import confusion_matrix\n",
    "from sklearn.metrics import classification_report\n",
    "from sklearn.metrics import accuracy_score\n",
    "from sklearn.metrics import precision_score\n",
    "from sklearn.metrics import recall_score\n",
    "from sklearn.metrics import f1_score"
   ]
  },
  {
   "cell_type": "code",
   "execution_count": 31,
   "id": "3dde5c07",
   "metadata": {},
   "outputs": [],
   "source": [
    "used_features=['Pclass','Age','SibSp','Parch','Fare','Sex_female','Sex_male',\n",
    "               'Embarked_C','Embarked_Q','Embarked_S',]\n",
    "x=df_train_dummies[used_features].values\n",
    "y=df_train_dummies[\"Survived\"]"
   ]
  },
  {
   "cell_type": "code",
   "execution_count": 32,
   "id": "2f481e80",
   "metadata": {},
   "outputs": [],
   "source": [
    "x_train,x_test,y_train,y_test=train_test_split(x,y,test_size=0.3,random_state=1)"
   ]
  },
  {
   "cell_type": "code",
   "execution_count": 33,
   "id": "ef6dcee2",
   "metadata": {},
   "outputs": [
    {
     "name": "stdout",
     "output_type": "stream",
     "text": [
      "(622, 10)\n",
      "(267, 10)\n",
      "(622,)\n",
      "(267,)\n"
     ]
    }
   ],
   "source": [
    "print(x_train.shape)\n",
    "print(x_test.shape)\n",
    "print(y_train.shape)\n",
    "print(y_test.shape)"
   ]
  },
  {
   "cell_type": "code",
   "execution_count": 35,
   "id": "4fa38377",
   "metadata": {},
   "outputs": [
    {
     "name": "stderr",
     "output_type": "stream",
     "text": [
      "/usr/lib/python3/dist-packages/sklearn/linear_model/_logistic.py:762: ConvergenceWarning: lbfgs failed to converge (status=1):\n",
      "STOP: TOTAL NO. of ITERATIONS REACHED LIMIT.\n",
      "\n",
      "Increase the number of iterations (max_iter) or scale the data as shown in:\n",
      "    https://scikit-learn.org/stable/modules/preprocessing.html\n",
      "Please also refer to the documentation for alternative solver options:\n",
      "    https://scikit-learn.org/stable/modules/linear_model.html#logistic-regression\n",
      "  n_iter_i = _check_optimize_result(\n"
     ]
    },
    {
     "data": {
      "text/plain": [
       "LogisticRegression()"
      ]
     },
     "execution_count": 35,
     "metadata": {},
     "output_type": "execute_result"
    }
   ],
   "source": [
    "log_reg=LogisticRegression()\n",
    "log_reg.fit(x_train,y_train)"
   ]
  },
  {
   "cell_type": "code",
   "execution_count": 36,
   "id": "5d05f940",
   "metadata": {},
   "outputs": [],
   "source": [
    "y_pred=log_reg.predict(x_test)"
   ]
  },
  {
   "cell_type": "code",
   "execution_count": 37,
   "id": "7ba47d80",
   "metadata": {},
   "outputs": [
    {
     "data": {
      "text/plain": [
       "array([[143,  23],\n",
       "       [ 22,  79]])"
      ]
     },
     "execution_count": 37,
     "metadata": {},
     "output_type": "execute_result"
    }
   ],
   "source": [
    "confusion_matrix(y_test,y_pred)"
   ]
  },
  {
   "cell_type": "code",
   "execution_count": 38,
   "id": "31dd5e6b",
   "metadata": {},
   "outputs": [
    {
     "data": {
      "text/plain": [
       "0.8314606741573034"
      ]
     },
     "execution_count": 38,
     "metadata": {},
     "output_type": "execute_result"
    }
   ],
   "source": [
    "accuracy_score(y_test,y_pred)"
   ]
  },
  {
   "cell_type": "code",
   "execution_count": 39,
   "id": "8478dd5f",
   "metadata": {},
   "outputs": [
    {
     "name": "stdout",
     "output_type": "stream",
     "text": [
      "              precision    recall  f1-score   support\n",
      "\n",
      "           0       0.87      0.86      0.86       166\n",
      "           1       0.77      0.78      0.78       101\n",
      "\n",
      "    accuracy                           0.83       267\n",
      "   macro avg       0.82      0.82      0.82       267\n",
      "weighted avg       0.83      0.83      0.83       267\n",
      "\n"
     ]
    }
   ],
   "source": [
    "print(classification_report(y_test,y_pred))"
   ]
  },
  {
   "cell_type": "code",
   "execution_count": 40,
   "id": "5e962395",
   "metadata": {},
   "outputs": [
    {
     "data": {
      "text/plain": [
       "array([[-9.86712627e-01, -3.82297744e-02, -2.39201857e-01,\n",
       "        -5.11752884e-02,  8.58117469e-04,  2.01649431e+00,\n",
       "        -3.48761867e-01,  8.75292077e-01,  5.36988104e-01,\n",
       "         2.55452260e-01]])"
      ]
     },
     "execution_count": 40,
     "metadata": {},
     "output_type": "execute_result"
    }
   ],
   "source": [
    "log_reg.coef_"
   ]
  },
  {
   "cell_type": "code",
   "execution_count": 41,
   "id": "35a53bce",
   "metadata": {},
   "outputs": [
    {
     "data": {
      "text/plain": [
       "array([2.06681013])"
      ]
     },
     "execution_count": 41,
     "metadata": {},
     "output_type": "execute_result"
    }
   ],
   "source": [
    "log_reg.intercept_"
   ]
  },
  {
   "cell_type": "code",
   "execution_count": 42,
   "id": "7e238601",
   "metadata": {},
   "outputs": [
    {
     "data": {
      "text/plain": [
       "array([[0.26889913, 0.73110087],\n",
       "       [0.39532606, 0.60467394],\n",
       "       [0.94347713, 0.05652287],\n",
       "       [0.25824147, 0.74175853],\n",
       "       [0.9415837 , 0.0584163 ],\n",
       "       [0.13938994, 0.86061006],\n",
       "       [0.3320499 , 0.6679501 ],\n",
       "       [0.51854875, 0.48145125],\n",
       "       [0.7859826 , 0.2140174 ],\n",
       "       [0.40336943, 0.59663057],\n",
       "       [0.73751951, 0.26248049],\n",
       "       [0.21899189, 0.78100811],\n",
       "       [0.75688237, 0.24311763],\n",
       "       [0.15234837, 0.84765163],\n",
       "       [0.86067611, 0.13932389],\n",
       "       [0.36679166, 0.63320834],\n",
       "       [0.89090827, 0.10909173],\n",
       "       [0.30000039, 0.69999961],\n",
       "       [0.18227114, 0.81772886],\n",
       "       [0.40914419, 0.59085581],\n",
       "       [0.89673946, 0.10326054],\n",
       "       [0.55947997, 0.44052003],\n",
       "       [0.86075895, 0.13924105],\n",
       "       [0.93494648, 0.06505352],\n",
       "       [0.52098242, 0.47901758],\n",
       "       [0.50691347, 0.49308653],\n",
       "       [0.04205835, 0.95794165],\n",
       "       [0.86506437, 0.13493563],\n",
       "       [0.89731748, 0.10268252],\n",
       "       [0.3293574 , 0.6706426 ],\n",
       "       [0.39417832, 0.60582168],\n",
       "       [0.32999133, 0.67000867],\n",
       "       [0.15959068, 0.84040932],\n",
       "       [0.41880472, 0.58119528],\n",
       "       [0.60830669, 0.39169331],\n",
       "       [0.17200032, 0.82799968],\n",
       "       [0.6520165 , 0.3479835 ],\n",
       "       [0.87384815, 0.12615185],\n",
       "       [0.24912373, 0.75087627],\n",
       "       [0.58457804, 0.41542196],\n",
       "       [0.43693318, 0.56306682],\n",
       "       [0.90730998, 0.09269002],\n",
       "       [0.29936159, 0.70063841],\n",
       "       [0.87385406, 0.12614594],\n",
       "       [0.7958694 , 0.2041306 ],\n",
       "       [0.23991708, 0.76008292],\n",
       "       [0.17664212, 0.82335788],\n",
       "       [0.81284068, 0.18715932],\n",
       "       [0.06590143, 0.93409857],\n",
       "       [0.91933302, 0.08066698],\n",
       "       [0.87390135, 0.12609865],\n",
       "       [0.45316824, 0.54683176],\n",
       "       [0.88015827, 0.11984173],\n",
       "       [0.09234064, 0.90765936],\n",
       "       [0.75018102, 0.24981898],\n",
       "       [0.0753682 , 0.9246318 ],\n",
       "       [0.7774684 , 0.2225316 ],\n",
       "       [0.95006647, 0.04993353],\n",
       "       [0.70434062, 0.29565938],\n",
       "       [0.93639285, 0.06360715],\n",
       "       [0.81387138, 0.18612862],\n",
       "       [0.8559715 , 0.1440285 ],\n",
       "       [0.6072839 , 0.3927161 ],\n",
       "       [0.87385406, 0.12614594],\n",
       "       [0.4556955 , 0.5443045 ],\n",
       "       [0.24141206, 0.75858794],\n",
       "       [0.87324267, 0.12675733],\n",
       "       [0.90728072, 0.09271928],\n",
       "       [0.84474112, 0.15525888],\n",
       "       [0.05172151, 0.94827849],\n",
       "       [0.84265752, 0.15734248],\n",
       "       [0.06162961, 0.93837039],\n",
       "       [0.6426692 , 0.3573308 ],\n",
       "       [0.85603275, 0.14396725],\n",
       "       [0.31629819, 0.68370181],\n",
       "       [0.13950322, 0.86049678],\n",
       "       [0.83945727, 0.16054273],\n",
       "       [0.91950133, 0.08049867],\n",
       "       [0.83199551, 0.16800449],\n",
       "       [0.83123702, 0.16876298],\n",
       "       [0.83945727, 0.16054273],\n",
       "       [0.86066024, 0.13933976],\n",
       "       [0.04254009, 0.95745991],\n",
       "       [0.05660152, 0.94339848],\n",
       "       [0.76384783, 0.23615217],\n",
       "       [0.63237126, 0.36762874],\n",
       "       [0.43881867, 0.56118133],\n",
       "       [0.35005006, 0.64994994],\n",
       "       [0.87385406, 0.12614594],\n",
       "       [0.3666563 , 0.6333437 ],\n",
       "       [0.89346397, 0.10653603],\n",
       "       [0.3293645 , 0.6706355 ],\n",
       "       [0.93013516, 0.06986484],\n",
       "       [0.78857187, 0.21142813],\n",
       "       [0.25943366, 0.74056634],\n",
       "       [0.83635   , 0.16365   ],\n",
       "       [0.23180004, 0.76819996],\n",
       "       [0.28061622, 0.71938378],\n",
       "       [0.25943297, 0.74056703],\n",
       "       [0.21999797, 0.78000203],\n",
       "       [0.84632913, 0.15367087],\n",
       "       [0.34359124, 0.65640876],\n",
       "       [0.62575856, 0.37424144],\n",
       "       [0.85125686, 0.14874314],\n",
       "       [0.85116902, 0.14883098],\n",
       "       [0.90275099, 0.09724901],\n",
       "       [0.13235568, 0.86764432],\n",
       "       [0.84634634, 0.15365366],\n",
       "       [0.76881801, 0.23118199],\n",
       "       [0.81453186, 0.18546814],\n",
       "       [0.63668927, 0.36331073],\n",
       "       [0.75892922, 0.24107078],\n",
       "       [0.78857187, 0.21142813],\n",
       "       [0.19290992, 0.80709008],\n",
       "       [0.35910981, 0.64089019],\n",
       "       [0.09209229, 0.90790771],\n",
       "       [0.91395643, 0.08604357],\n",
       "       [0.40338405, 0.59661595],\n",
       "       [0.06997227, 0.93002773],\n",
       "       [0.79066799, 0.20933201],\n",
       "       [0.87392971, 0.12607029],\n",
       "       [0.2151332 , 0.7848668 ],\n",
       "       [0.32929106, 0.67070894],\n",
       "       [0.515211  , 0.484789  ],\n",
       "       [0.21249267, 0.78750733],\n",
       "       [0.88719161, 0.11280839],\n",
       "       [0.45038652, 0.54961348],\n",
       "       [0.90745771, 0.09254229],\n",
       "       [0.8780233 , 0.1219767 ],\n",
       "       [0.58031168, 0.41968832],\n",
       "       [0.45078777, 0.54921223],\n",
       "       [0.62599717, 0.37400283],\n",
       "       [0.87669992, 0.12330008],\n",
       "       [0.60901186, 0.39098814],\n",
       "       [0.3673075 , 0.6326925 ],\n",
       "       [0.0750317 , 0.9249683 ],\n",
       "       [0.85515852, 0.14484148],\n",
       "       [0.92206912, 0.07793088],\n",
       "       [0.87318567, 0.12681433],\n",
       "       [0.88470314, 0.11529686],\n",
       "       [0.8561719 , 0.1438281 ],\n",
       "       [0.31601015, 0.68398985],\n",
       "       [0.91927917, 0.08072083],\n",
       "       [0.38543183, 0.61456817],\n",
       "       [0.6144232 , 0.3855768 ],\n",
       "       [0.69761159, 0.30238841],\n",
       "       [0.18896748, 0.81103252],\n",
       "       [0.09782558, 0.90217442],\n",
       "       [0.08123139, 0.91876861],\n",
       "       [0.92493498, 0.07506502],\n",
       "       [0.85377874, 0.14622126],\n",
       "       [0.93245223, 0.06754777],\n",
       "       [0.15114387, 0.84885613],\n",
       "       [0.84634634, 0.15365366],\n",
       "       [0.3990446 , 0.6009554 ],\n",
       "       [0.36720281, 0.63279719],\n",
       "       [0.78876435, 0.21123565],\n",
       "       [0.37609776, 0.62390224],\n",
       "       [0.88583834, 0.11416166],\n",
       "       [0.87388007, 0.12611993],\n",
       "       [0.51329252, 0.48670748],\n",
       "       [0.77105312, 0.22894688],\n",
       "       [0.58031168, 0.41968832],\n",
       "       [0.86838417, 0.13161583],\n",
       "       [0.86992071, 0.13007929],\n",
       "       [0.83081381, 0.16918619],\n",
       "       [0.14040916, 0.85959084],\n",
       "       [0.04421451, 0.95578549],\n",
       "       [0.77172585, 0.22827415],\n",
       "       [0.23829643, 0.76170357],\n",
       "       [0.84722539, 0.15277461],\n",
       "       [0.89769546, 0.10230454],\n",
       "       [0.83945727, 0.16054273],\n",
       "       [0.86960403, 0.13039597],\n",
       "       [0.68378111, 0.31621889],\n",
       "       [0.29277137, 0.70722863],\n",
       "       [0.86066024, 0.13933976],\n",
       "       [0.7126786 , 0.2873214 ],\n",
       "       [0.87385406, 0.12614594],\n",
       "       [0.84609229, 0.15390771],\n",
       "       [0.83945727, 0.16054273],\n",
       "       [0.87385406, 0.12614594],\n",
       "       [0.64927332, 0.35072668],\n",
       "       [0.92905348, 0.07094652],\n",
       "       [0.3293874 , 0.6706126 ],\n",
       "       [0.82250453, 0.17749547],\n",
       "       [0.3826042 , 0.6173958 ],\n",
       "       [0.59069529, 0.40930471],\n",
       "       [0.22617773, 0.77382227],\n",
       "       [0.90053781, 0.09946219],\n",
       "       [0.75323372, 0.24676628],\n",
       "       [0.71118011, 0.28881989],\n",
       "       [0.8607554 , 0.1392446 ],\n",
       "       [0.76360742, 0.23639258],\n",
       "       [0.93292809, 0.06707191],\n",
       "       [0.74832091, 0.25167909],\n",
       "       [0.89705754, 0.10294246],\n",
       "       [0.29077202, 0.70922798],\n",
       "       [0.60901186, 0.39098814],\n",
       "       [0.07270363, 0.92729637],\n",
       "       [0.69316533, 0.30683467],\n",
       "       [0.18862455, 0.81137545],\n",
       "       [0.77842065, 0.22157935],\n",
       "       [0.56130466, 0.43869534],\n",
       "       [0.04970814, 0.95029186],\n",
       "       [0.88597748, 0.11402252],\n",
       "       [0.87173186, 0.12826814],\n",
       "       [0.31620578, 0.68379422],\n",
       "       [0.81002038, 0.18997962],\n",
       "       [0.08130602, 0.91869398],\n",
       "       [0.83855898, 0.16144102],\n",
       "       [0.74253819, 0.25746181],\n",
       "       [0.78857247, 0.21142753],\n",
       "       [0.76881865, 0.23118135],\n",
       "       [0.31588692, 0.68411308],\n",
       "       [0.18500456, 0.81499544],\n",
       "       [0.75727691, 0.24272309],\n",
       "       [0.20147577, 0.79852423],\n",
       "       [0.91033822, 0.08966178],\n",
       "       [0.69284257, 0.30715743],\n",
       "       [0.86838417, 0.13161583],\n",
       "       [0.49386604, 0.50613396],\n",
       "       [0.67815559, 0.32184441],\n",
       "       [0.22625254, 0.77374746],\n",
       "       [0.24750824, 0.75249176],\n",
       "       [0.8605264 , 0.1394736 ],\n",
       "       [0.58527116, 0.41472884],\n",
       "       [0.83945727, 0.16054273],\n",
       "       [0.78857247, 0.21142753],\n",
       "       [0.7489868 , 0.2510132 ],\n",
       "       [0.38085236, 0.61914764],\n",
       "       [0.30663056, 0.69336944],\n",
       "       [0.47466051, 0.52533949],\n",
       "       [0.83945727, 0.16054273],\n",
       "       [0.89352929, 0.10647071],\n",
       "       [0.88702162, 0.11297838],\n",
       "       [0.87386864, 0.12613136],\n",
       "       [0.80201248, 0.19798752],\n",
       "       [0.37493835, 0.62506165],\n",
       "       [0.87389189, 0.12610811],\n",
       "       [0.29950506, 0.70049494],\n",
       "       [0.83755158, 0.16244842],\n",
       "       [0.84631704, 0.15368296],\n",
       "       [0.67821597, 0.32178403],\n",
       "       [0.50948087, 0.49051913],\n",
       "       [0.09885375, 0.90114625],\n",
       "       [0.14113712, 0.85886288],\n",
       "       [0.78387915, 0.21612085],\n",
       "       [0.69539375, 0.30460625],\n",
       "       [0.8708394 , 0.1291606 ],\n",
       "       [0.22877684, 0.77122316],\n",
       "       [0.32934949, 0.67065051],\n",
       "       [0.39423467, 0.60576533],\n",
       "       [0.93738605, 0.06261395],\n",
       "       [0.10617785, 0.89382215],\n",
       "       [0.23179317, 0.76820683],\n",
       "       [0.87803364, 0.12196636],\n",
       "       [0.90053557, 0.09946443],\n",
       "       [0.04432136, 0.95567864],\n",
       "       [0.78857187, 0.21142813],\n",
       "       [0.20715872, 0.79284128],\n",
       "       [0.86802112, 0.13197888],\n",
       "       [0.66217307, 0.33782693],\n",
       "       [0.87386864, 0.12613136],\n",
       "       [0.3066313 , 0.6933687 ],\n",
       "       [0.83946016, 0.16053984],\n",
       "       [0.90924971, 0.09075029]])"
      ]
     },
     "execution_count": 42,
     "metadata": {},
     "output_type": "execute_result"
    }
   ],
   "source": [
    "log_reg.predict_proba(x_test)"
   ]
  },
  {
   "cell_type": "code",
   "execution_count": null,
   "id": "35dfa921",
   "metadata": {},
   "outputs": [],
   "source": []
  }
 ],
 "metadata": {
  "kernelspec": {
   "display_name": "Python 3 (ipykernel)",
   "language": "python",
   "name": "python3"
  },
  "language_info": {
   "codemirror_mode": {
    "name": "ipython",
    "version": 3
   },
   "file_extension": ".py",
   "mimetype": "text/x-python",
   "name": "python",
   "nbconvert_exporter": "python",
   "pygments_lexer": "ipython3",
   "version": "3.10.6"
  }
 },
 "nbformat": 4,
 "nbformat_minor": 5
}
